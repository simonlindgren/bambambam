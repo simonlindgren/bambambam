{
 "cells": [
  {
   "cell_type": "code",
   "execution_count": 40,
   "metadata": {},
   "outputs": [],
   "source": [
    "import spacy\n",
    "import classy_classification"
   ]
  },
  {
   "cell_type": "code",
   "execution_count": 9,
   "metadata": {},
   "outputs": [],
   "source": [
    "# label data\n",
    "labels = {\n",
    "    \"furniture\": [\"This text is about chairs.\",\n",
    "               \"Couches, benches and televisions.\",\n",
    "               \"I really need to get a new sofa.\"],\n",
    "    \"kitchen\": [\"There also exist things like fridges.\",\n",
    "                \"I hope to be getting a new stove today.\",\n",
    "                \"Do you also have some ovens.\"]\n",
    "}"
   ]
  },
  {
   "cell_type": "code",
   "execution_count": 41,
   "metadata": {},
   "outputs": [
    {
     "data": {
      "text/plain": [
       "<classy_classification.classifiers.classy_spacy.ClassySpacyExternalFewShot at 0x3b5422d60>"
      ]
     },
     "execution_count": 41,
     "metadata": {},
     "output_type": "execute_result"
    }
   ],
   "source": [
    "# start with a blank spacy model\n",
    "nlp = spacy.blank(\"en\") \n",
    "\n",
    "# add in the text_categorizer from classy_classification to the processing pipeline\n",
    "nlp.add_pipe(\"text_categorizer\",\n",
    "    config ={\n",
    "    \"data\": labels,\n",
    "    \"model\": \"sentence-transformers/paraphrase-multilingual-MiniLM-L12-v2\",\n",
    "    \"device\": \"cpu\"\n",
    "    }\n",
    ")\n"
   ]
  },
  {
   "cell_type": "code",
   "execution_count": 39,
   "metadata": {},
   "outputs": [
    {
     "name": "stdout",
     "output_type": "stream",
     "text": [
      "{'furniture': 0.12022529596456778, 'kitchen': 0.8797747040354322}\n"
     ]
    }
   ],
   "source": [
    "# run classification\n",
    "print(nlp(\"I am looking for kitchen appliances.\")._.cats)"
   ]
  },
  {
   "cell_type": "code",
   "execution_count": 27,
   "metadata": {},
   "outputs": [],
   "source": [
    "sentence_model = spacy.blank(\"en\")\n",
    "\n",
    "sentence_model.add_pipe(\"sentencizer\")\n",
    "\n",
    "with open (\"harry_potter_cleaned.txt\", \"r\") as f:\n",
    "    text = f.read()\n",
    "\n",
    "\n",
    "sentences = sentence_model(text)"
   ]
  },
  {
   "cell_type": "code",
   "execution_count": 29,
   "metadata": {},
   "outputs": [],
   "source": [
    "final_data = []\n",
    "for sentence in sentences.sents:\n",
    "    doc = nlp(sentence.text) #< -- perform the categorizer at the sentence level\n",
    "    final_data.append({\"sentence\": doc.text, \"cats\": doc._.cats})"
   ]
  },
  {
   "cell_type": "code",
   "execution_count": 30,
   "metadata": {},
   "outputs": [
    {
     "data": {
      "text/plain": [
       "{'sentence': 'Mr. and Mrs. Dursley, of number four, Privet Drive, were proud to say that they were perfectly normal, thank you very much.',\n",
       " 'cats': {'furniture': 0.588502517277626, 'kitchen': 0.4114974827223741}}"
      ]
     },
     "execution_count": 30,
     "metadata": {},
     "output_type": "execute_result"
    }
   ],
   "source": [
    "final_data[0]"
   ]
  },
  {
   "cell_type": "code",
   "execution_count": 31,
   "metadata": {},
   "outputs": [
    {
     "ename": "KeyError",
     "evalue": "'fear'",
     "output_type": "error",
     "traceback": [
      "\u001b[0;31m---------------------------------------------------------------------------\u001b[0m",
      "\u001b[0;31mKeyError\u001b[0m                                  Traceback (most recent call last)",
      "\u001b[1;32m/Users/simon/Dropbox/code/science2/few_shot.ipynb Cell 13\u001b[0m in \u001b[0;36m<cell line: 1>\u001b[0;34m()\u001b[0m\n\u001b[1;32m      <a href='vscode-notebook-cell:/Users/simon/Dropbox/code/science2/few_shot.ipynb#X24sZmlsZQ%3D%3D?line=0'>1</a>\u001b[0m \u001b[39mfor\u001b[39;00m item \u001b[39min\u001b[39;00m final_data:\n\u001b[0;32m----> <a href='vscode-notebook-cell:/Users/simon/Dropbox/code/science2/few_shot.ipynb#X24sZmlsZQ%3D%3D?line=1'>2</a>\u001b[0m     \u001b[39mif\u001b[39;00m item[\u001b[39m\"\u001b[39;49m\u001b[39mcats\u001b[39;49m\u001b[39m\"\u001b[39;49m][\u001b[39m\"\u001b[39;49m\u001b[39mfear\u001b[39;49m\u001b[39m\"\u001b[39;49m] \u001b[39m>\u001b[39m \u001b[39m.8\u001b[39m:\n\u001b[1;32m      <a href='vscode-notebook-cell:/Users/simon/Dropbox/code/science2/few_shot.ipynb#X24sZmlsZQ%3D%3D?line=2'>3</a>\u001b[0m         \u001b[39mprint\u001b[39m (item[\u001b[39m\"\u001b[39m\u001b[39msentence\u001b[39m\u001b[39m\"\u001b[39m]\u001b[39m.\u001b[39mstrip())\n\u001b[1;32m      <a href='vscode-notebook-cell:/Users/simon/Dropbox/code/science2/few_shot.ipynb#X24sZmlsZQ%3D%3D?line=3'>4</a>\u001b[0m         \u001b[39mprint\u001b[39m (item[\u001b[39m\"\u001b[39m\u001b[39mcats\u001b[39m\u001b[39m\"\u001b[39m])\n",
      "\u001b[0;31mKeyError\u001b[0m: 'fear'"
     ]
    }
   ],
   "source": [
    "for item in final_data:\n",
    "    if item[\"cats\"][\"fear\"] > .8:\n",
    "        print (item[\"sentence\"].strip())\n",
    "        print (item[\"cats\"])\n",
    "        print ()"
   ]
  }
 ],
 "metadata": {
  "kernelspec": {
   "display_name": "base",
   "language": "python",
   "name": "python3"
  },
  "language_info": {
   "codemirror_mode": {
    "name": "ipython",
    "version": 3
   },
   "file_extension": ".py",
   "mimetype": "text/x-python",
   "name": "python",
   "nbconvert_exporter": "python",
   "pygments_lexer": "ipython3",
   "version": "3.9.12"
  },
  "orig_nbformat": 4,
  "vscode": {
   "interpreter": {
    "hash": "ebe3ce01678291323dcff905f7209dd16179ba179af5ccfbed7b023ef5b6c3ff"
   }
  }
 },
 "nbformat": 4,
 "nbformat_minor": 2
}
