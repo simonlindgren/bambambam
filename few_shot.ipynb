{
 "cells": [
  {
   "cell_type": "code",
   "execution_count": 39,
   "metadata": {},
   "outputs": [],
   "source": [
    "import spacy\n",
    "import classy_classification\n",
    "import glob"
   ]
  },
  {
   "cell_type": "code",
   "execution_count": 49,
   "metadata": {},
   "outputs": [
    {
     "name": "stdout",
     "output_type": "stream",
     "text": [
      "{'body': ['My head aches, and I will need some rest.', 'I feel a sense of hunger in my stomach.', 'She was unable to straighten her fingers.'], 'clothes': ['I will get my hat and coat, and I think also my umbrella.', 'Shoes are good to wear.', 'The trousers are striped, and my pockets are empty.'], 'ghosts': ['This is spooky, and the night is dark.', 'A phantom is fleeting across my room.', 'A ghastly shape is hiding behind my curtain.']}\n"
     ]
    }
   ],
   "source": [
    "label_files = glob.glob('labels/*.txt')\n",
    "\n",
    "labels = {}\n",
    "\n",
    "for lf in label_files:\n",
    "    label = lf.split('/')[1].split('.')[0]\n",
    "    examples = [e.strip() for e in open(lf).readlines()]\n",
    "    labels[label] = examples\n",
    "\n",
    "print(labels)\n"
   ]
  },
  {
   "cell_type": "code",
   "execution_count": 50,
   "metadata": {},
   "outputs": [
    {
     "data": {
      "text/plain": [
       "<classy_classification.classifiers.classy_spacy.ClassySpacyExternalFewShot at 0x3484471c0>"
      ]
     },
     "execution_count": 50,
     "metadata": {},
     "output_type": "execute_result"
    }
   ],
   "source": [
    "# start with a blank spacy model\n",
    "nlp = spacy.blank(\"en\") \n",
    "\n",
    "# add in the text_categorizer from classy_classification to the processing pipeline\n",
    "nlp.add_pipe(\"text_categorizer\",\n",
    "    config ={\n",
    "    \"data\": labels,\n",
    "    \"model\": \"sentence-transformers/paraphrase-multilingual-MiniLM-L12-v2\",\n",
    "    \"device\": \"cpu\"\n",
    "    }\n",
    ")\n"
   ]
  },
  {
   "cell_type": "code",
   "execution_count": 52,
   "metadata": {},
   "outputs": [
    {
     "data": {
      "text/plain": [
       "['FOUND AMONG THE PAPERS OF THE LATE DIEDRICH KNICKERBOCKER.',\n",
       " 'A pleasing land of drowsy head it was,           Of dreams that wave before the half-shut eye;',\n",
       " 'And of gay castles in the clouds that pass,           Forever flushing round a summer sky.                                          CASTLE OF INDOLENCE.',\n",
       " 'In the bosom of one of those spacious coves which indent the eastern shore of the Hudson, at that broad expansion of the river denominated by the ancient Dutch navigators the Tappan Zee, and where they always prudently shortened sail and implored the protection of St. Nicholas when they crossed, there lies a small market town or rural port, which by some is called Greensburgh, but which is more generally and properly known by the name of Tarry Town.',\n",
       " 'This name was given, we are told, in former days, by the good housewives of the adjacent country, from the inveterate propensity of their husbands to linger about the village tavern on market days.',\n",
       " 'Be that as it may, I do not vouch for the fact, but merely advert to it, for the sake of being precise and authentic.',\n",
       " 'Not far from this village, perhaps about two miles, there is a little valley or rather lap of land among high hills, which is one of the quietest places in the whole world.',\n",
       " 'A small brook glides through it, with just murmur enough to lull one to repose; and the occasional whistle of a quail or tapping of a woodpecker is almost the only sound that ever breaks in upon the uniform tranquillity.',\n",
       " 'I recollect that, when a stripling, my first exploit in squirrel-shooting was in a grove of tall walnut-trees that shades one side of the valley.',\n",
       " 'I had wandered into it at noontime, when all nature is peculiarly quiet, and was startled by the roar of my own gun, as it broke the Sabbath stillness around and was prolonged and reverberated by the angry echoes.',\n",
       " 'If ever I should wish for a retreat whither I might steal from the world and its distractions, and dream quietly away the remnant of a troubled life, I know of none more promising than this little valley.',\n",
       " 'From the listless repose of the place, and the peculiar character of its inhabitants, who are descendants from the original Dutch settlers, this sequestered glen has long been known by the name of SLEEPY HOLLOW, and its rustic lads are called the Sleepy Hollow Boys throughout all the neighboring country.',\n",
       " 'A drowsy, dreamy influence seems to hang over the land, and to pervade the very atmosphere.',\n",
       " 'Some say that the place was bewitched by a High German doctor, during the early days of the settlement; others, that an old Indian chief, the prophet or wizard of his tribe, held his powwows there before the country was discovered by Master Hendrick Hudson.',\n",
       " 'Certain it is, the place still continues under the sway of some witching power, that holds a spell over the minds of the good people, causing them to walk in a continual reverie.',\n",
       " 'They are given to all kinds of marvellous beliefs, are subject to trances and visions, and frequently see strange sights, and hear music and voices in the air.',\n",
       " 'The whole neighborhood abounds with local tales, haunted spots, and twilight superstitions; stars shoot and meteors glare oftener across the valley than in any other part of the country, and the nightmare, with her whole ninefold, seems to make it the favorite scene of her gambols.',\n",
       " 'The dominant spirit, however, that haunts this enchanted region, and seems to be commander-in-chief of all the powers of the air, is the apparition of a figure on horseback, without a head.',\n",
       " 'It is said by some to be the ghost of a Hessian trooper, whose head had been carried away by a cannon-ball, in some nameless battle during the Revolutionary War, and who is ever and anon seen by the country folk hurrying along in the gloom of night, as if on the wings of the wind.',\n",
       " 'His haunts are not confined to the valley, but extend at times to the adjacent roads, and especially to the vicinity of a church at no great distance.',\n",
       " 'Indeed, certain of the most authentic historians of those parts, who have been careful in collecting and collating the floating facts concerning this spectre, allege that the body of the trooper having been buried in the churchyard, the ghost rides forth to the scene of battle in nightly quest of his head, and that the rushing speed with which he sometimes passes along the Hollow, like a midnight blast, is owing to his being belated, and in a hurry to get back to the churchyard before daybreak.',\n",
       " 'Such is the general purport of this legendary superstition, which has furnished materials for many a wild story in that region of shadows; and the spectre is known at all the country firesides, by the name of the Headless Horseman of Sleepy Hollow.',\n",
       " 'It is remarkable that the visionary propensity I have mentioned is not confined to the native inhabitants of the valley, but is unconsciously imbibed by every one who resides there for a time.',\n",
       " 'However wide awake they may have been before they entered that sleepy region, they are sure, in a little time, to inhale the witching influence of the air, and begin to grow imaginative, to dream dreams, and see apparitions.',\n",
       " 'I mention this peaceful spot with all possible laud, for it is in such little retired Dutch valleys, found here and there embosomed in the great State of New York, that population, manners, and customs remain fixed, while the great torrent of migration and improvement, which is making such incessant changes in other parts of this restless country, sweeps by them unobserved.',\n",
       " 'They are like those little nooks of still water, which border a rapid stream, where we may see the straw and bubble riding quietly at anchor, or slowly revolving in their mimic harbor, undisturbed by the rush of the passing current.',\n",
       " 'Though many years have elapsed since I trod the drowsy shades of Sleepy Hollow, yet I question whether I should not still find the same trees and the same families vegetating in its sheltered bosom.',\n",
       " 'In this by-place of nature there abode, in a remote period of American history, that is to say, some thirty years since, a worthy wight of the name of Ichabod Crane, who sojourned, or, as he expressed it, “tarried,”  in Sleepy Hollow, for the purpose of instructing the children of the vicinity.',\n",
       " 'He was a native of Connecticut, a State which supplies the Union with pioneers for the mind as well as for the forest, and sends forth yearly its legions of frontier woodmen and country schoolmasters.',\n",
       " 'The cognomen of Crane was not inapplicable to his person.',\n",
       " 'He was tall, but exceedingly lank, with narrow shoulders, long arms and legs, hands that dangled a mile out of his sleeves, feet that might have served for shovels, and his whole frame most loosely hung together.',\n",
       " 'His head was small, and flat at top, with huge ears, large green glassy eyes, and a long snipe nose, so that it looked like a weather-cock perched upon his spindle neck to tell which way the wind blew.',\n",
       " 'To see him striding along the profile of a hill on a windy day, with his clothes bagging and fluttering about him, one might have mistaken him for the genius of famine descending upon the earth, or some scarecrow eloped from a cornfield.',\n",
       " 'His schoolhouse was a low building of one large room, rudely constructed of logs; the windows partly glazed, and partly patched with leaves of old copybooks.',\n",
       " 'It was most ingeniously secured at vacant hours, by a withe twisted in the handle of the door, and stakes set against the window shutters; so that though a thief might get in with perfect ease, he would find some embarrassment in getting out,--an idea most probably borrowed by the architect, Yost Van Houten, from the mystery of an eelpot.',\n",
       " 'The schoolhouse stood in a rather lonely but pleasant situation, just at the foot of a woody hill, with a brook running close by, and a formidable birch-tree growing at one end of it.',\n",
       " 'From hence the low murmur of his pupils’ voices, conning over their lessons, might be heard in a drowsy summer’s day, like the hum of a beehive; interrupted now and then by the authoritative voice of the master, in the tone of menace or command, or, peradventure, by the appalling sound of the birch, as he urged some tardy loiterer along the flowery path of knowledge.',\n",
       " 'Truth to say, he was a conscientious man, and ever bore in mind the golden maxim, “Spare the rod and spoil the child.”',\n",
       " 'Ichabod Crane’s scholars certainly were not spoiled.',\n",
       " 'I would not have it imagined, however, that he was one of those cruel potentates of the school who joy in the smart of their subjects; on the contrary, he administered justice with discrimination rather than severity; taking the burden off the backs of the weak, and laying it on those of the strong.',\n",
       " 'Your mere puny stripling, that winced at the least flourish of the rod, was passed by with indulgence; but the claims of justice were satisfied by inflicting a double portion on some little tough wrong-headed, broad-skirted Dutch urchin, who sulked and swelled and grew dogged and sullen beneath the birch.',\n",
       " 'All this he called “doing his duty by their parents;” and he never inflicted a chastisement without following it by the assurance, so consolatory to the smarting urchin, that “he would remember it and thank him for it the longest day he had to live.”',\n",
       " 'When school hours were over, he was even the companion and playmate of the larger boys; and on holiday afternoons would convoy some of the smaller ones home, who happened to have pretty sisters, or good housewives for mothers, noted for the comforts of the cupboard.',\n",
       " 'Indeed, it behooved him to keep on good terms with his pupils.',\n",
       " 'The revenue arising from his school was small, and would have been scarcely sufficient to furnish him with daily bread, for he was a huge feeder, and, though lank, had the dilating powers of an anaconda; but to help out his maintenance, he was, according to country custom in those parts, boarded and lodged at the houses of the farmers whose children he instructed.',\n",
       " 'With these he lived successively a week at a time, thus going the rounds of the neighborhood, with all his worldly effects tied up in a cotton handkerchief.',\n",
       " 'That all this might not be too onerous on the purses of his rustic patrons, who are apt to consider the costs of schooling a grievous burden, and schoolmasters as mere drones, he had various ways of rendering himself both useful and agreeable.',\n",
       " 'He assisted the farmers occasionally in the lighter labors of their farms, helped to make hay, mended the fences, took the horses to water, drove the cows from pasture, and cut wood for the winter fire.',\n",
       " 'He laid aside, too, all the dominant dignity and absolute sway with which he lorded it in his little empire, the school, and became wonderfully gentle and ingratiating.',\n",
       " 'He found favor in the eyes of the mothers by petting the children, particularly the youngest; and like the lion bold, which whilom so magnanimously the lamb did hold, he would sit with a child on one knee, and rock a cradle with his foot for whole hours together.',\n",
       " 'In addition to his other vocations, he was the singing-master of the neighborhood, and picked up many bright shillings by instructing the young folks in psalmody.',\n",
       " 'It was a matter of no little vanity to him on Sundays, to take his station in front of the church gallery, with a band of chosen singers; where, in his own mind, he completely carried away the palm from the parson.',\n",
       " 'Certain it is, his voice resounded far above all the rest of the congregation; and there are peculiar quavers still to be heard in that church, and which may even be heard half a mile off, quite to the opposite side of the millpond, on a still Sunday morning, which are said to be legitimately descended from the nose of Ichabod Crane.',\n",
       " 'Thus, by divers little makeshifts, in that ingenious way which is commonly denominated “by hook and by crook,” the worthy pedagogue got on tolerably enough, and was thought, by all who understood nothing of the labor of headwork, to have a wonderfully easy life of it.',\n",
       " 'The schoolmaster is generally a man of some importance in the female circle of a rural neighborhood; being considered a kind of idle, gentlemanlike personage, of vastly superior taste and accomplishments to the rough country swains, and, indeed, inferior in learning only to the parson.',\n",
       " 'His appearance, therefore, is apt to occasion some little stir at the tea-table of a farmhouse, and the addition of a supernumerary dish of cakes or sweetmeats, or, peradventure, the parade of a silver teapot.',\n",
       " 'Our man of letters, therefore, was peculiarly happy in the smiles of all the country damsels.',\n",
       " 'How he would figure among them in the churchyard, between services on Sundays; gathering grapes for them from the wild vines that overran the surrounding trees; reciting for their amusement all the epitaphs on the tombstones; or sauntering, with a whole bevy of them, along the banks of the adjacent millpond; while the more bashful country bumpkins hung sheepishly back, envying his superior elegance and address.',\n",
       " 'From his half-itinerant life, also, he was a kind of travelling gazette, carrying the whole budget of local gossip from house to house, so that his appearance was always greeted with satisfaction.',\n",
       " 'He was, moreover, esteemed by the women as a man of great erudition, for he had read several books quite through, and was a perfect master of Cotton Mather’s “History of New England Witchcraft,” in which, by the way, he most firmly and potently believed.',\n",
       " 'He was, in fact, an odd mixture of small shrewdness and simple credulity.',\n",
       " 'His appetite for the marvellous, and his powers of digesting it, were equally extraordinary; and both had been increased by his residence in this spell-bound region.',\n",
       " 'No tale was too gross or monstrous for his capacious swallow.',\n",
       " 'It was often his delight, after his school was dismissed in the afternoon, to stretch himself on the rich bed of clover bordering the little brook that whimpered by his schoolhouse, and there con over old Mather’s direful tales, until the gathering dusk of evening made the printed page a mere mist before his eyes.',\n",
       " 'Then, as he wended his way by swamp and stream and awful woodland, to the farmhouse where he happened to be quartered, every sound of nature, at that witching hour, fluttered his excited imagination,--the moan of the whip-poor-will from the hillside, the boding cry of the tree toad, that harbinger of storm, the dreary hooting of the screech owl, or the sudden rustling in the thicket of birds frightened from their roost.',\n",
       " 'The fireflies, too, which sparkled most vividly in the darkest places, now and then startled him, as one of uncommon brightness would stream across his path; and if, by chance, a huge blockhead of a beetle came winging his blundering flight against him, the poor varlet was ready to give up the ghost, with the idea that he was struck with a witch’s token.',\n",
       " 'His only resource on such occasions, either to drown thought or drive away evil spirits, was to sing psalm tunes and the good people of Sleepy Hollow, as they sat by their doors of an evening, were often filled with awe at hearing his nasal melody, “in linked sweetness long drawn out,”  floating from the distant hill, or along the dusky road.',\n",
       " 'Another of his sources of fearful pleasure was to pass long winter evenings with the old Dutch wives, as they sat spinning by the fire, with a row of apples roasting and spluttering along the hearth, and listen to their marvellous tales of ghosts and goblins, and haunted fields, and haunted brooks, and haunted bridges, and haunted houses, and particularly of the headless horseman, or Galloping Hessian of the Hollow, as they sometimes called him.',\n",
       " 'He would delight them equally by his anecdotes of witchcraft, and of the direful omens and portentous sights and sounds in the air, which prevailed in the earlier times of Connecticut; and would frighten them woefully with speculations upon comets and shooting stars; and with the alarming fact that the world did absolutely turn round, and that they were half the time topsy-turvy!',\n",
       " 'But if there was a pleasure in all this, while snugly cuddling in the chimney corner of a chamber that was all of a ruddy glow from the crackling wood fire, and where, of course, no spectre dared to show its face, it was dearly purchased by the terrors of his subsequent walk homewards.',\n",
       " 'What fearful shapes and shadows beset his path, amidst the dim and ghastly glare of a snowy night!',\n",
       " 'With what wistful look did he eye every trembling ray of light streaming across the waste fields from some distant window!',\n",
       " 'How often was he appalled by some shrub covered with snow, which, like a sheeted spectre, beset his very path!',\n",
       " 'How often did he shrink with curdling awe at the sound of his own steps on the frosty crust beneath his feet; and dread to look over his shoulder, lest he should behold some uncouth being tramping close behind him!',\n",
       " 'And how often was he thrown into complete dismay by some rushing blast, howling among the trees, in the idea that it was the Galloping Hessian on one of his nightly scourings!',\n",
       " 'All these, however, were mere terrors of the night, phantoms of the mind that walk in darkness; and though he had seen many spectres in his time, and been more than once beset by Satan in divers shapes, in his lonely perambulations, yet daylight put an end to all these evils; and he would have passed a pleasant life of it, in despite of the Devil and all his works, if his path had not been crossed by a being that causes more perplexity to mortal man than ghosts, goblins, and the whole race of witches put together, and that was--a woman.',\n",
       " 'Among the musical disciples who assembled, one evening in each week, to receive his instructions in psalmody, was Katrina Van Tassel, the daughter and only child of a substantial Dutch farmer.',\n",
       " 'She was a blooming lass of fresh eighteen; plump as a partridge; ripe and melting and rosy-cheeked as one of her father’s peaches, and universally famed, not merely for her beauty, but her vast expectations.',\n",
       " 'She was withal a little of a coquette, as might be perceived even in her dress, which was a mixture of ancient and modern fashions, as most suited to set off her charms.',\n",
       " 'She wore the ornaments of pure yellow gold, which her great-great-grandmother had brought over from Saardam; the tempting stomacher of the olden time, and withal a provokingly short petticoat, to display the prettiest foot and ankle in the country round.',\n",
       " 'Ichabod Crane had a soft and foolish heart towards the sex; and it is not to be wondered at that so tempting a morsel soon found favor in his eyes, more especially after he had visited her in her paternal mansion.',\n",
       " 'Old Baltus Van Tassel was a perfect picture of a thriving, contented, liberal-hearted farmer.',\n",
       " 'He seldom, it is true, sent either his eyes or his thoughts beyond the boundaries of his own farm; but within those everything was snug, happy and well-conditioned.',\n",
       " 'He was satisfied with his wealth, but not proud of it; and piqued himself upon the hearty abundance, rather than the style in which he lived.',\n",
       " 'His stronghold was situated on the banks of the Hudson, in one of those green, sheltered, fertile nooks in which the Dutch farmers are so fond of nestling.',\n",
       " 'A great elm tree spread its broad branches over it, at the foot of which bubbled up a spring of the softest and sweetest water, in a little well formed of a barrel; and then stole sparkling away through the grass, to a neighboring brook, that babbled along among alders and dwarf willows.',\n",
       " 'Hard by the farmhouse was a vast barn, that might have served for a church; every window and crevice of which seemed bursting forth with the treasures of the farm; the flail was busily resounding within it from morning to night; swallows and martins skimmed twittering about the eaves; and rows of pigeons, some with one eye turned up, as if watching the weather, some with their heads under their wings or buried in their bosoms, and others swelling, and cooing, and bowing about their dames, were enjoying the sunshine on the roof.',\n",
       " 'Sleek unwieldy porkers were grunting in the repose and abundance of their pens, from whence sallied forth, now and then, troops of sucking pigs, as if to snuff the air.',\n",
       " 'A stately squadron of snowy geese were riding in an adjoining pond, convoying whole fleets of ducks; regiments of turkeys were gobbling through the farmyard, and Guinea fowls fretting about it, like ill-tempered housewives, with their peevish, discontented cry.',\n",
       " 'Before the barn door strutted the gallant cock, that pattern of a husband, a warrior and a fine gentleman, clapping his burnished wings and crowing in the pride and gladness of his heart,--sometimes tearing up the earth with his feet, and then generously calling his ever-hungry family of wives and children to enjoy the rich morsel which he had discovered.',\n",
       " 'The pedagogue’s mouth watered as he looked upon this sumptuous promise of luxurious winter fare.',\n",
       " 'In his devouring mind’s eye, he pictured to himself every roasting-pig running about with a pudding in his belly, and an apple in his mouth; the pigeons were snugly put to bed in a comfortable pie, and tucked in with a coverlet of crust; the geese were swimming in their own gravy; and the ducks pairing cosily in dishes, like snug married couples, with a decent competency of onion sauce.',\n",
       " 'In the porkers he saw carved out the future sleek side of bacon, and juicy relishing ham; not a turkey but he beheld daintily trussed up, with its gizzard under its wing, and, peradventure, a necklace of savory sausages; and even bright chanticleer himself lay sprawling on his back, in a side dish, with uplifted claws, as if craving that quarter which his chivalrous spirit disdained to ask while living.',\n",
       " 'As the enraptured Ichabod fancied all this, and as he rolled his great green eyes over the fat meadow lands, the rich fields of wheat, of rye, of buckwheat, and Indian corn, and the orchards burdened with ruddy fruit, which surrounded the warm tenement of Van Tassel, his heart yearned after the damsel who was to inherit these domains, and his imagination expanded with the idea, how they might be readily turned into cash, and the money invested in immense tracts of wild land, and shingle palaces in the wilderness.',\n",
       " 'Nay, his busy fancy already realized his hopes, and presented to him the blooming Katrina, with a whole family of children, mounted on the top of a wagon loaded with household trumpery, with pots and kettles dangling beneath; and he beheld himself bestriding a pacing mare, with a colt at her heels, setting out for Kentucky, Tennessee,--or the Lord knows where!',\n",
       " 'When he entered the house, the conquest of his heart was complete.',\n",
       " 'It was one of those spacious farmhouses, with high-ridged but lowly sloping roofs, built in the style handed down from the first Dutch settlers; the low projecting eaves forming a piazza along the front, capable of being closed up in bad weather.',\n",
       " 'Under this were hung flails, harness, various utensils of husbandry, and nets for fishing in the neighboring river.',\n",
       " 'Benches were built along the sides for summer use; and a great spinning-wheel at one end, and a churn at the other, showed the various uses to which this important porch might be devoted.',\n",
       " 'From this piazza the wondering Ichabod entered the hall, which formed the centre of the mansion, and the place of usual residence.',\n",
       " 'Here rows of resplendent pewter, ranged on a long dresser, dazzled his eyes.',\n",
       " 'In one corner stood a huge bag of wool, ready to be spun; in another, a quantity of linsey-woolsey just from the loom; ears of Indian corn, and strings of dried apples and peaches, hung in gay festoons along the walls, mingled with the gaud of red peppers; and a door left ajar gave him a peep into the best parlor, where the claw-footed chairs and dark mahogany tables shone like mirrors; andirons, with their accompanying shovel and tongs, glistened from their covert of asparagus tops; mock-oranges and conch-shells decorated the mantelpiece; strings of various-colored birds eggs were suspended above it; a great ostrich egg was hung from the centre of the room, and a corner cupboard, knowingly left open, displayed immense treasures of old silver and well-mended china.',\n",
       " 'From the moment Ichabod laid his eyes upon these regions of delight, the peace of his mind was at an end, and his only study was how to gain the affections of the peerless daughter of Van Tassel.',\n",
       " 'In this enterprise, however, he had more real difficulties than generally fell to the lot of a knight-errant of yore, who seldom had anything but giants, enchanters, fiery dragons, and such like easily conquered adversaries, to contend with and had to make his way merely through gates of iron and brass, and walls of adamant to the castle keep, where the lady of his heart was confined; all which he achieved as easily as a man would carve his way to the centre of a Christmas pie; and then the lady gave him her hand as a matter of course.',\n",
       " 'Ichabod, on the contrary, had to win his way to the heart of a country coquette, beset with a labyrinth of whims and caprices, which were forever presenting new difficulties and impediments; and he had to encounter a host of fearful adversaries of real flesh and blood, the numerous rustic admirers, who beset every portal to her heart, keeping a watchful and angry eye upon each other, but ready to fly out in the common cause against any new competitor.',\n",
       " 'Among these, the most formidable was a burly, roaring, roystering blade, of the name of Abraham, or, according to the Dutch abbreviation, Brom Van Brunt, the hero of the country round, which rang with his feats of strength and hardihood.',\n",
       " 'He was broad-shouldered and double-jointed, with short curly black hair, and a bluff but not unpleasant countenance, having a mingled air of fun and arrogance.',\n",
       " 'From his Herculean frame and great powers of limb he had received the nickname of BROM BONES, by which he was universally known.',\n",
       " 'He was famed for great knowledge and skill in horsemanship, being as dexterous on horseback as a Tartar.',\n",
       " 'He was foremost at all races and cock fights; and, with the ascendancy which bodily strength always acquires in rustic life, was the umpire in all disputes, setting his hat on one side, and giving his decisions with an air and tone that admitted of no gainsay or appeal.',\n",
       " 'He was always ready for either a fight or a frolic; but had more mischief than ill-will in his composition; and with all his overbearing roughness, there was a strong dash of waggish good humor at bottom.',\n",
       " 'He had three or four boon companions, who regarded him as their model, and at the head of whom he scoured the country, attending every scene of feud or merriment for miles round.',\n",
       " 'In cold weather he was distinguished by a fur cap, surmounted with a flaunting fox’s tail; and when the folks at a country gathering descried this well-known crest at a distance, whisking about among a squad of hard riders, they always stood by for a squall.',\n",
       " 'Sometimes his crew would be heard dashing along past the farmhouses at midnight, with whoop and halloo, like a troop of Don Cossacks; and the old dames, startled out of their sleep, would listen for a moment till the hurry-scurry had clattered by, and then exclaim, “Ay, there goes Brom Bones and his gang!”',\n",
       " 'The neighbors looked upon him with a mixture of awe, admiration, and good-will; and, when any madcap prank or rustic brawl occurred in the vicinity, always shook their heads, and warranted Brom Bones was at the bottom of it.',\n",
       " 'This rantipole hero had for some time singled out the blooming Katrina for the object of his uncouth gallantries, and though his amorous toyings were something like the gentle caresses and endearments of a bear, yet it was whispered that she did not altogether discourage his hopes.',\n",
       " 'Certain it is, his advances were signals for rival candidates to retire, who felt no inclination to cross a lion in his amours; insomuch, that when his horse was seen tied to Van Tassel’s paling, on a Sunday night, a sure sign that his master was courting, or, as it is termed, “sparking,” within, all other suitors passed by in despair, and carried the war into other quarters.',\n",
       " 'Such was the formidable rival with whom Ichabod Crane had to contend, and, considering all things, a stouter man than he would have shrunk from the competition, and a wiser man would have despaired.',\n",
       " 'He had, however, a happy mixture of pliability and perseverance in his nature; he was in form and spirit like a supple-jack--yielding, but tough; though he bent, he never broke; and though he bowed beneath the slightest pressure, yet, the moment it was away--jerk!--he was as erect, and carried his head as high as ever.  To have taken the field openly against his rival would have been madness; for he was not a man to be thwarted in his amours, any more than that stormy lover, Achilles.',\n",
       " 'Ichabod, therefore, made his advances in a quiet and gently insinuating manner.',\n",
       " 'Under cover of his character of singing-master, he made frequent visits at the farmhouse; not that he had anything to apprehend from the meddlesome interference of parents, which is so often a stumbling-block in the path of lovers.',\n",
       " 'Balt Van Tassel was an easy indulgent soul; he loved his daughter better even than his pipe, and, like a reasonable man and an excellent father, let her have her way in everything.',\n",
       " 'His notable little wife, too, had enough to do to attend to her housekeeping and manage her poultry; for, as she sagely observed, ducks and geese are foolish things, and must be looked after, but girls can take care of themselves.',\n",
       " 'Thus, while the busy dame bustled about the house, or plied her spinning-wheel at one end of the piazza, honest Balt would sit smoking his evening pipe at the other, watching the achievements of a little wooden warrior, who, armed with a sword in each hand, was most valiantly fighting the wind on the pinnacle of the barn.',\n",
       " 'In the mean time, Ichabod would carry on his suit with the daughter by the side of the spring under the great elm, or sauntering along in the twilight, that hour so favorable to the lover’s eloquence.',\n",
       " 'I profess not to know how women’s hearts are wooed and won.',\n",
       " 'To me they have always been matters of riddle and admiration.',\n",
       " 'Some seem to have but one vulnerable point, or door of access; while others have a thousand avenues, and may be captured in a thousand different ways.',\n",
       " 'It is a great triumph of skill to gain the former, but a still greater proof of generalship to maintain possession of the latter, for man must battle for his fortress at every door and window.',\n",
       " 'He who wins a thousand common hearts is therefore entitled to some renown; but he who keeps undisputed sway over the heart of a coquette is indeed a hero.',\n",
       " 'Certain it is, this was not the case with the redoubtable Brom Bones; and from the moment Ichabod Crane made his advances, the interests of the former evidently declined: his horse was no longer seen tied to the palings on Sunday nights, and a deadly feud gradually arose between him and the preceptor of Sleepy Hollow.',\n",
       " 'Brom, who had a degree of rough chivalry in his nature, would fain have carried matters to open warfare and have settled their pretensions to the lady, according to the mode of those most concise and simple reasoners, the knights-errant of yore,--by single combat; but Ichabod was too conscious of the superior might of his adversary to enter the lists against him; he had overheard a boast of Bones, that he would “double the schoolmaster up, and lay him on a shelf of his own schoolhouse;” and he was too wary to give him an opportunity.',\n",
       " 'There was something extremely provoking in this obstinately pacific system; it left Brom no alternative but to draw upon the funds of rustic waggery in his disposition, and to play off boorish practical jokes upon his rival.',\n",
       " 'Ichabod became the object of whimsical persecution to Bones and his gang of rough riders.',\n",
       " 'They harried his hitherto peaceful domains; smoked out his singing school by stopping up the chimney; broke into the schoolhouse at night, in spite of its formidable fastenings of withe and window stakes, and turned everything topsy-turvy, so that the poor schoolmaster began to think all the witches in the country held their meetings there.',\n",
       " 'But what was still more annoying, Brom took all opportunities of turning him into ridicule in presence of his mistress, and had a scoundrel dog whom he taught to whine in the most ludicrous manner, and introduced as a rival of Ichabod’s, to instruct her in psalmody.',\n",
       " 'In this way matters went on for some time, without producing any material effect on the relative situations of the contending powers.',\n",
       " 'On a fine autumnal afternoon, Ichabod, in pensive mood, sat enthroned on the lofty stool from whence he usually watched all the concerns of his little literary realm.',\n",
       " 'In his hand he swayed a ferule, that sceptre of despotic power; the birch of justice reposed on three nails behind the throne, a constant terror to evil doers, while on the desk before him might be seen sundry contraband articles and prohibited weapons, detected upon the persons of idle urchins, such as half-munched apples, popguns, whirligigs, fly-cages, and whole legions of rampant little paper gamecocks.',\n",
       " 'Apparently there had been some appalling act of justice recently inflicted, for his scholars were all busily intent upon their books, or slyly whispering behind them with one eye kept upon the master; and a kind of buzzing stillness reigned throughout the schoolroom.',\n",
       " 'It was suddenly interrupted by the appearance of a negro in tow-cloth jacket and trowsers, a round-crowned fragment of a hat, like the cap of Mercury, and mounted on the back of a ragged, wild, half-broken colt, which he managed with a rope by way of halter.',\n",
       " 'He came clattering up to the school door with an invitation to Ichabod to attend a merry-making or “quilting frolic,” to be held that evening at Mynheer Van Tassel’s; and having delivered his message with that air of importance, and effort at fine language, which a negro is apt to display on petty embassies of the kind, he dashed over the brook, and was seen scampering away up the hollow, full of the importance and hurry of his mission.',\n",
       " 'All was now bustle and hubbub in the late quiet schoolroom.',\n",
       " 'The scholars were hurried through their lessons without stopping at trifles; those who were nimble skipped over half with impunity, and those who were tardy had a smart application now and then in the rear, to quicken their speed or help them over a tall word.',\n",
       " 'Books were flung aside without being put away on the shelves, inkstands were overturned, benches thrown down, and the whole school was turned loose an hour before the usual time, bursting forth like a legion of young imps, yelping and racketing about the green in joy at their early emancipation.',\n",
       " 'The gallant Ichabod now spent at least an extra half hour at his toilet, brushing and furbishing up his best, and indeed only suit of rusty black, and arranging his locks by a bit of broken looking-glass that hung up in the schoolhouse.',\n",
       " 'That he might make his appearance before his mistress in the true style of a cavalier, he borrowed a horse from the farmer with whom he was domiciliated, a choleric old Dutchman of the name of Hans Van Ripper, and, thus gallantly mounted, issued forth like a knight-errant in quest of adventures.',\n",
       " 'But it is meet I should, in the true spirit of romantic story, give some account of the looks and equipments of my hero and his steed.',\n",
       " 'The animal he bestrode was a broken-down plow-horse, that had outlived almost everything but its viciousness.',\n",
       " 'He was gaunt and shagged, with a ewe neck, and a head like a hammer; his rusty mane and tail were tangled and knotted with burs; one eye had lost its pupil, and was glaring and spectral, but the other had the gleam of a genuine devil in it.',\n",
       " 'Still he must have had fire and mettle in his day, if we may judge from the name he bore of Gunpowder.',\n",
       " 'He had, in fact, been a favorite steed of his master’s, the choleric Van Ripper, who was a furious rider, and had infused, very probably, some of his own spirit into the animal; for, old and broken-down as he looked, there was more of the lurking devil in him than in any young filly in the country.',\n",
       " 'Ichabod was a suitable figure for such a steed.',\n",
       " 'He rode with short stirrups, which brought his knees nearly up to the pommel of the saddle; his sharp elbows stuck out like grasshoppers’; he carried his whip perpendicularly in his hand, like a sceptre, and as his horse jogged on, the motion of his arms was not unlike the flapping of a pair of wings.',\n",
       " 'A small wool hat rested on the top of his nose, for so his scanty strip of forehead might be called, and the skirts of his black coat fluttered out almost to the horses tail.',\n",
       " 'Such was the appearance of Ichabod and his steed as they shambled out of the gate of Hans Van Ripper, and it was altogether such an apparition as is seldom to be met with in broad daylight.',\n",
       " 'It was, as I have said, a fine autumnal day; the sky was clear and serene, and nature wore that rich and golden livery which we always associate with the idea of abundance.',\n",
       " 'The forests had put on their sober brown and yellow, while some trees of the tenderer kind had been nipped by the frosts into brilliant dyes of orange, purple, and scarlet.',\n",
       " 'Streaming files of wild ducks began to make their appearance high in the air; the bark of the squirrel might be heard from the groves of beech and hickory-nuts, and the pensive whistle of the quail at intervals from the neighboring stubble field.',\n",
       " 'The small birds were taking their farewell banquets.',\n",
       " 'In the fullness of their revelry, they fluttered, chirping and frolicking from bush to bush, and tree to tree, capricious from the very profusion and variety around them.',\n",
       " 'There was the honest cock robin, the favorite game of stripling sportsmen, with its loud querulous note; and the twittering blackbirds flying in sable clouds; and the golden-winged woodpecker with his crimson crest, his broad black gorget, and splendid plumage; and the cedar bird, with its red-tipt wings and yellow-tipt tail and its little monteiro cap of feathers; and the blue jay, that noisy coxcomb, in his gay light blue coat and white underclothes, screaming and chattering, nodding and bobbing and bowing, and pretending to be on good terms with every songster of the grove.',\n",
       " 'As Ichabod jogged slowly on his way, his eye, ever open to every symptom of culinary abundance, ranged with delight over the treasures of jolly autumn.',\n",
       " 'On all sides he beheld vast store of apples; some hanging in oppressive opulence on the trees; some gathered into baskets and barrels for the market; others heaped up in rich piles for the cider-press.',\n",
       " 'Farther on he beheld great fields of Indian corn, with its golden ears peeping from their leafy coverts, and holding out the promise of cakes and hasty-pudding; and the yellow pumpkins lying beneath them, turning up their fair round bellies to the sun, and giving ample prospects of the most luxurious of pies; and anon he passed the fragrant buckwheat fields breathing the odor of the beehive, and as he beheld them, soft anticipations stole over his mind of dainty slapjacks, well buttered, and garnished with honey or treacle, by the delicate little dimpled hand of Katrina Van Tassel.',\n",
       " 'Thus feeding his mind with many sweet thoughts and “sugared suppositions,” he journeyed along the sides of a range of hills which look out upon some of the goodliest scenes of the mighty Hudson.',\n",
       " 'The sun gradually wheeled his broad disk down in the west.',\n",
       " 'The wide bosom of the Tappan Zee lay motionless and glassy, excepting that here and there a gentle undulation waved and prolonged the blue shadow of the distant mountain.',\n",
       " 'A few amber clouds floated in the sky, without a breath of air to move them.',\n",
       " 'The horizon was of a fine golden tint, changing gradually into a pure apple green, and from that into the deep blue of the mid-heaven.',\n",
       " 'A slanting ray lingered on the woody crests of the precipices that overhung some parts of the river, giving greater depth to the dark gray and purple of their rocky sides.',\n",
       " 'A sloop was loitering in the distance, dropping slowly down with the tide, her sail hanging uselessly against the mast; and as the reflection of the sky gleamed along the still water, it seemed as if the vessel was suspended in the air.',\n",
       " 'It was toward evening that Ichabod arrived at the castle of the Heer Van Tassel, which he found thronged with the pride and flower of the adjacent country.',\n",
       " 'Old farmers, a spare leathern-faced race, in homespun coats and breeches, blue stockings, huge shoes, and magnificent pewter buckles.',\n",
       " 'Their brisk, withered little dames, in close-crimped caps, long-waisted short gowns, homespun petticoats, with scissors and pincushions, and gay calico pockets hanging on the outside.',\n",
       " 'Buxom lasses, almost as antiquated as their mothers, excepting where a straw hat, a fine ribbon, or perhaps a white frock, gave symptoms of city innovation.',\n",
       " 'The sons, in short square-skirted coats, with rows of stupendous brass buttons, and their hair generally queued in the fashion of the times, especially if they could procure an eel-skin for the purpose, it being esteemed throughout the country as a potent nourisher and strengthener of the hair.',\n",
       " 'Brom Bones, however, was the hero of the scene, having come to the gathering on his favorite steed Daredevil, a creature, like himself, full of mettle and mischief, and which no one but himself could manage.',\n",
       " 'He was, in fact, noted for preferring vicious animals, given to all kinds of tricks which kept the rider in constant risk of his neck, for he held a tractable, well-broken horse as unworthy of a lad of spirit.',\n",
       " 'Fain would I pause to dwell upon the world of charms that burst upon the enraptured gaze of my hero, as he entered the state parlor of Van Tassel’s mansion.',\n",
       " 'Not those of the bevy of buxom lasses, with their luxurious display of red and white; but the ample charms of a genuine Dutch country tea-table, in the sumptuous time of autumn.',\n",
       " 'Such heaped up platters of cakes of various and almost indescribable kinds, known only to experienced Dutch housewives!',\n",
       " 'There was the doughty doughnut, the tender oly koek, and the crisp and crumbling cruller; sweet cakes and short cakes, ginger cakes and honey cakes, and the whole family of cakes.',\n",
       " 'And then there were apple pies, and peach pies, and pumpkin pies; besides slices of ham and smoked beef; and moreover delectable dishes of preserved plums, and peaches, and pears, and quinces; not to mention broiled shad and roasted chickens; together with bowls of milk and cream, all mingled higgledy-piggledy, pretty much as I have enumerated them, with the motherly teapot sending up its clouds of vapor from the midst--Heaven bless the mark!',\n",
       " 'I want breath and time to discuss this banquet as it deserves, and am too eager to get on with my story.',\n",
       " 'Happily, Ichabod Crane was not in so great a hurry as his historian, but did ample justice to every dainty.',\n",
       " 'He was a kind and thankful creature, whose heart dilated in proportion as his skin was filled with good cheer, and whose spirits rose with eating, as some men’s do with drink.',\n",
       " 'He could not help, too, rolling his large eyes round him as he ate, and chuckling with the possibility that he might one day be lord of all this scene of almost unimaginable luxury and splendor.',\n",
       " 'Then, he thought, how soon he’d turn his back upon the old schoolhouse; snap his fingers in the face of Hans Van Ripper, and every other niggardly patron, and kick any itinerant pedagogue out of doors that should dare to call him comrade!',\n",
       " 'Old Baltus Van Tassel moved about among his guests with a face dilated with content and good humor, round and jolly as the harvest moon.',\n",
       " 'His hospitable attentions were brief, but expressive, being confined to a shake of the hand, a slap on the shoulder, a loud laugh, and a pressing invitation to “fall to, and help themselves.”',\n",
       " 'And now the sound of the music from the common room, or hall, summoned to the dance.',\n",
       " 'The musician was an old gray-headed negro, who had been the itinerant orchestra of the neighborhood for more than half a century.',\n",
       " 'His instrument was as old and battered as himself.',\n",
       " 'The greater part of the time he scraped on two or three strings, accompanying every movement of the bow with a motion of the head; bowing almost to the ground, and stamping with his foot whenever a fresh couple were to start.',\n",
       " 'Ichabod prided himself upon his dancing as much as upon his vocal powers.',\n",
       " 'Not a limb, not a fibre about him was idle; and to have seen his loosely hung frame in full motion, and clattering about the room, you would have thought St. Vitus himself, that blessed patron of the dance, was figuring before you in person.',\n",
       " 'He was the admiration of all the negroes; who, having gathered, of all ages and sizes, from the farm and the neighborhood, stood forming a pyramid of shining black faces at every door and window, gazing with delight at the scene, rolling their white eyeballs, and showing grinning rows of ivory from ear to ear.',\n",
       " 'How could the flogger of urchins be otherwise than animated and joyous?',\n",
       " 'The lady of his heart was his partner in the dance, and smiling graciously in reply to all his amorous oglings; while Brom Bones, sorely smitten with love and jealousy, sat brooding by himself in one corner.',\n",
       " 'When the dance was at an end, Ichabod was attracted to a knot of the sager folks, who, with Old Van Tassel, sat smoking at one end of the piazza, gossiping over former times, and drawing out long stories about the war.',\n",
       " 'This neighborhood, at the time of which I am speaking, was one of those highly favored places which abound with chronicle and great men.',\n",
       " 'The British and American line had run near it during the war; it had, therefore, been the scene of marauding and infested with refugees, cowboys, and all kinds of border chivalry.',\n",
       " 'Just sufficient time had elapsed to enable each storyteller to dress up his tale with a little becoming fiction, and, in the indistinctness of his recollection, to make himself the hero of every exploit.',\n",
       " 'There was the story of Doffue Martling, a large blue-bearded Dutchman, who had nearly taken a British frigate with an old iron nine-pounder from a mud breastwork, only that his gun burst at the sixth discharge.',\n",
       " 'And there was an old gentleman who shall be nameless, being too rich a mynheer to be lightly mentioned, who, in the battle of White Plains, being an excellent master of defence, parried a musket-ball with a small sword, insomuch that he absolutely felt it whiz round the blade, and glance off at the hilt; in proof of which he was ready at any time to show the sword, with the hilt a little bent.',\n",
       " 'There were several more that had been equally great in the field, not one of whom but was persuaded that he had a considerable hand in bringing the war to a happy termination.',\n",
       " 'But all these were nothing to the tales of ghosts and apparitions that succeeded.',\n",
       " 'The neighborhood is rich in legendary treasures of the kind.',\n",
       " 'Local tales and superstitions thrive best in these sheltered, long-settled retreats; but are trampled under foot by the shifting throng that forms the population of most of our country places.',\n",
       " 'Besides, there is no encouragement for ghosts in most of our villages, for they have scarcely had time to finish their first nap and turn themselves in their graves, before their surviving friends have travelled away from the neighborhood; so that when they turn out at night to walk their rounds, they have no acquaintance left to call upon.',\n",
       " 'This is perhaps the reason why we so seldom hear of ghosts except in our long-established Dutch communities.',\n",
       " 'The immediate cause, however, of the prevalence of supernatural stories in these parts, was doubtless owing to the vicinity of Sleepy Hollow.',\n",
       " 'There was a contagion in the very air that blew from that haunted region; it breathed forth an atmosphere of dreams and fancies infecting all the land.',\n",
       " 'Several of the Sleepy Hollow people were present at Van Tassel’s, and, as usual, were doling out their wild and wonderful legends.',\n",
       " 'Many dismal tales were told about funeral trains, and mourning cries and wailings heard and seen about the great tree where the unfortunate Major André was taken, and which stood in the neighborhood.',\n",
       " 'Some mention was made also of the woman in white, that haunted the dark glen at Raven Rock, and was often heard to shriek on winter nights before a storm, having perished there in the snow.',\n",
       " 'The chief part of the stories, however, turned upon the favorite spectre of Sleepy Hollow, the Headless Horseman, who had been heard several times of late, patrolling the country; and, it was said, tethered his horse nightly among the graves in the churchyard.',\n",
       " 'The sequestered situation of this church seems always to have made it a favorite haunt of troubled spirits.',\n",
       " 'It stands on a knoll, surrounded by locust-trees and lofty elms, from among which its decent, whitewashed walls shine modestly forth, like Christian purity beaming through the shades of retirement.',\n",
       " 'A gentle slope descends from it to a silver sheet of water, bordered by high trees, between which, peeps may be caught at the blue hills of the Hudson.',\n",
       " 'To look upon its grass-grown yard, where the sunbeams seem to sleep so quietly, one would think that there at least the dead might rest in peace.',\n",
       " 'On one side of the church extends a wide woody dell, along which raves a large brook among broken rocks and trunks of fallen trees.',\n",
       " 'Over a deep black part of the stream, not far from the church, was formerly thrown a wooden bridge; the road that led to it, and the bridge itself, were thickly shaded by overhanging trees, which cast a gloom about it, even in the daytime; but occasioned a fearful darkness at night.',\n",
       " 'Such was one of the favorite haunts of the Headless Horseman, and the place where he was most frequently encountered.',\n",
       " 'The tale was told of old Brouwer, a most heretical disbeliever in ghosts, how he met the Horseman returning from his foray into Sleepy Hollow, and was obliged to get up behind him; how they galloped over bush and brake, over hill and swamp, until they reached the bridge; when the Horseman suddenly turned into a skeleton, threw old Brouwer into the brook, and sprang away over the tree-tops with a clap of thunder.',\n",
       " 'This story was immediately matched by a thrice marvellous adventure of Brom Bones, who made light of the Galloping Hessian as an arrant jockey.',\n",
       " 'He affirmed that on returning one night from the neighboring village of Sing Sing, he had been overtaken by this midnight trooper; that he had offered to race with him for a bowl of punch, and should have won it too, for Daredevil beat the goblin horse all hollow, but just as they came to the church bridge, the Hessian bolted, and vanished in a flash of fire.',\n",
       " 'All these tales, told in that drowsy undertone with which men talk in the dark, the countenances of the listeners only now and then receiving a casual gleam from the glare of a pipe, sank deep in the mind of Ichabod.',\n",
       " 'He repaid them in kind with large extracts from his invaluable author, Cotton Mather, and added many marvellous events that had taken place in his native State of Connecticut, and fearful sights which he had seen in his nightly walks about Sleepy Hollow.',\n",
       " 'The revel now gradually broke up.',\n",
       " 'The old farmers gathered together their families in their wagons, and were heard for some time rattling along the hollow roads, and over the distant hills.',\n",
       " 'Some of the damsels mounted on pillions behind their favorite swains, and their light-hearted laughter, mingling with the clatter of hoofs, echoed along the silent woodlands, sounding fainter and fainter, until they gradually died away,--and the late scene of noise and frolic was all silent and deserted.',\n",
       " 'Ichabod only lingered behind, according to the custom of country lovers, to have a tête-à-tête with the heiress; fully convinced that he was now on the high road to success.',\n",
       " 'What passed at this interview I will not pretend to say, for in fact I do not know.',\n",
       " 'Something, however, I fear me, must have gone wrong, for he certainly sallied forth, after no very great interval, with an air quite desolate and chapfallen.',\n",
       " 'Oh, these women!',\n",
       " 'these women!',\n",
       " 'Could that girl have been playing off any of her coquettish tricks?',\n",
       " 'Was her encouragement of the poor pedagogue all a mere sham to secure her conquest of his rival? Heaven only knows, not I!',\n",
       " 'Let it suffice to say, Ichabod stole forth with the air of one who had been sacking a henroost, rather than a fair lady’s heart.',\n",
       " 'Without looking to the right or left to notice the scene of rural wealth, on which he had so often gloated, he went straight to the stable, and with several hearty cuffs and kicks roused his steed most uncourteously from the comfortable quarters in which he was soundly sleeping, dreaming of mountains of corn and oats, and whole valleys of timothy and clover.',\n",
       " 'It was the very witching time of night that Ichabod, heavy-hearted and crestfallen, pursued his travels homewards, along the sides of the lofty hills which rise above Tarry Town, and which he had traversed so cheerily in the afternoon.',\n",
       " 'The hour was as dismal as himself.',\n",
       " 'Far below him the Tappan Zee spread its dusky and indistinct waste of waters, with here and there the tall mast of a sloop, riding quietly at anchor under the land.',\n",
       " 'In the dead hush of midnight, he could even hear the barking of the watchdog from the opposite shore of the Hudson; but it was so vague and faint as only to give an idea of his distance from this faithful companion of man.',\n",
       " 'Now and then, too, the long-drawn crowing of a cock, accidentally awakened, would sound far, far off, from some farmhouse away among the hills--but it was like a dreaming sound in his ear.',\n",
       " 'No signs of life occurred near him, but occasionally the melancholy chirp of a cricket, or perhaps the guttural twang of a bullfrog from a neighboring marsh, as if sleeping uncomfortably and turning suddenly in his bed.',\n",
       " 'All the stories of ghosts and goblins that he had heard in the afternoon now came crowding upon his recollection.',\n",
       " 'The night grew darker and darker; the stars seemed to sink deeper in the sky, and driving clouds occasionally hid them from his sight.',\n",
       " 'He had never felt so lonely and dismal.',\n",
       " 'He was, moreover, approaching the very place where many of the scenes of the ghost stories had been laid.',\n",
       " 'In the centre of the road stood an enormous tulip-tree, which towered like a giant above all the other trees of the neighborhood, and formed a kind of landmark.',\n",
       " 'Its limbs were gnarled and fantastic, large enough to form trunks for ordinary trees, twisting down almost to the earth, and rising again into the air.',\n",
       " 'It was connected with the tragical story of the unfortunate André, who had been taken prisoner hard by; and was universally known by the name of Major André’s tree.',\n",
       " 'The common people regarded it with a mixture of respect and superstition, partly out of sympathy for the fate of its ill-starred namesake, and partly from the tales of strange sights, and doleful lamentations, told concerning it.',\n",
       " 'As Ichabod approached this fearful tree, he began to whistle; he thought his whistle was answered; it was but a blast sweeping sharply through the dry branches.',\n",
       " 'As he approached a little nearer, he thought he saw something white, hanging in the midst of the tree: he paused and ceased whistling but, on looking more narrowly, perceived that it was a place where the tree had been scathed by lightning, and the white wood laid bare.',\n",
       " 'Suddenly he heard a groan--his teeth chattered, and his knees smote against the saddle: it was but the rubbing of one huge bough upon another, as they were swayed about by the breeze.',\n",
       " 'He passed the tree in safety, but new perils lay before him.',\n",
       " 'About two hundred yards from the tree, a small brook crossed the road, and ran into a marshy and thickly-wooded glen, known by the name of Wiley’s Swamp.',\n",
       " 'A few rough logs, laid side by side, served for a bridge over this stream.',\n",
       " 'On that side of the road where the brook entered the wood, a group of oaks and chestnuts, matted thick with wild grape-vines, threw a cavernous gloom over it.',\n",
       " 'To pass this bridge was the severest trial.',\n",
       " 'It was at this identical spot that the unfortunate André was captured, and under the covert of those chestnuts and vines were the sturdy yeomen concealed who surprised him.',\n",
       " 'This has ever since been considered a haunted stream, and fearful are the feelings of the schoolboy who has to pass it alone after dark.',\n",
       " 'As he approached the stream, his heart began to thump; he summoned up, however, all his resolution, gave his horse half a score of kicks in the ribs, and attempted to dash briskly across the bridge; but instead of starting forward, the perverse old animal made a lateral movement, and ran broadside against the fence.',\n",
       " 'Ichabod, whose fears increased with the delay, jerked the reins on the other side, and kicked lustily with the contrary foot: it was all in vain; his steed started, it is true, but it was only to plunge to the opposite side of the road into a thicket of brambles and alder bushes.',\n",
       " 'The schoolmaster now bestowed both whip and heel upon the starveling ribs of old Gunpowder, who dashed forward, snuffling and snorting, but came to a stand just by the bridge, with a suddenness that had nearly sent his rider sprawling over his head.',\n",
       " 'Just at this moment a plashy tramp by the side of the bridge caught the sensitive ear of Ichabod.',\n",
       " 'In the dark shadow of the grove, on the margin of the brook, he beheld something huge, misshapen and towering.',\n",
       " 'It stirred not, but seemed gathered up in the gloom, like some gigantic monster ready to spring upon the traveller.',\n",
       " 'The hair of the affrighted pedagogue rose upon his head with terror.',\n",
       " 'What was to be done?',\n",
       " 'To turn and fly was now too late; and besides, what chance was there of escaping ghost or goblin, if such it was, which could ride upon the wings of the wind?',\n",
       " 'Summoning up, therefore, a show of courage, he demanded in stammering accents, “Who are you?”  He received no reply.',\n",
       " 'He repeated his demand in a still more agitated voice.',\n",
       " 'Still there was no answer.',\n",
       " 'Once more he cudgelled the sides of the inflexible Gunpowder, and, shutting his eyes, broke forth with involuntary fervor into a psalm tune.',\n",
       " 'Just then the shadowy object of alarm put itself in motion, and with a scramble and a bound stood at once in the middle of the road.',\n",
       " 'Though the night was dark and dismal, yet the form of the unknown might now in some degree be ascertained.',\n",
       " 'He appeared to be a horseman of large dimensions, and mounted on a black horse of powerful frame.',\n",
       " 'He made no offer of molestation or sociability, but kept aloof on one side of the road, jogging along on the blind side of old Gunpowder, who had now got over his fright and waywardness.',\n",
       " 'Ichabod, who had no relish for this strange midnight companion, and bethought himself of the adventure of Brom Bones with the Galloping Hessian, now quickened his steed in hopes of leaving him behind.',\n",
       " 'The stranger, however, quickened his horse to an equal pace.',\n",
       " 'Ichabod pulled up, and fell into a walk, thinking to lag behind,--the other did the same.',\n",
       " 'His heart began to sink within him; he endeavored to resume his psalm tune, but his parched tongue clove to the roof of his mouth, and he could not utter a stave.',\n",
       " 'There was something in the moody and dogged silence of this pertinacious companion that was mysterious and appalling.',\n",
       " 'It was soon fearfully accounted for.',\n",
       " 'On mounting a rising ground, which brought the figure of his fellow-traveller in relief against the sky, gigantic in height, and muffled in a cloak, Ichabod was horror-struck on perceiving that he was headless!--but his horror was still more increased on observing that the head, which should have rested on his shoulders, was carried before him on the pommel of his saddle!',\n",
       " 'His terror rose to desperation; he rained a shower of kicks and blows upon Gunpowder, hoping by a sudden movement to give his companion the slip; but the spectre started full jump with him.',\n",
       " 'Away, then, they dashed through thick and thin; stones flying and sparks flashing at every bound.',\n",
       " 'Ichabod’s flimsy garments fluttered in the air, as he stretched his long lank body away over his horse’s head, in the eagerness of his flight.',\n",
       " 'They had now reached the road which turns off to Sleepy Hollow; but Gunpowder, who seemed possessed with a demon, instead of keeping up it, made an opposite turn, and plunged headlong downhill to the left.',\n",
       " 'This road leads through a sandy hollow shaded by trees for about a quarter of a mile, where it crosses the bridge famous in goblin story; and just beyond swells the green knoll on which stands the whitewashed church.',\n",
       " 'As yet the panic of the steed had given his unskilful rider an apparent advantage in the chase, but just as he had got half way through the hollow, the girths of the saddle gave way, and he felt it slipping from under him.',\n",
       " 'He seized it by the pommel, and endeavored to hold it firm, but in vain; and had just time to save himself by clasping old Gunpowder round the neck, when the saddle fell to the earth, and he heard it trampled under foot by his pursuer.',\n",
       " 'For a moment the terror of Hans Van Ripper’s wrath passed across his mind,--for it was his Sunday saddle; but this was no time for petty fears; the goblin was hard on his haunches; and (unskilful rider that he was!)',\n",
       " 'he had much ado to maintain his seat; sometimes slipping on one side, sometimes on another, and sometimes jolted on the high ridge of his horse’s backbone, with a violence that he verily feared would cleave him asunder.',\n",
       " 'An opening in the trees now cheered him with the hopes that the church bridge was at hand.',\n",
       " 'The wavering reflection of a silver star in the bosom of the brook told him that he was not mistaken.',\n",
       " 'He saw the walls of the church dimly glaring under the trees beyond.',\n",
       " 'He recollected the place where Brom Bones’s ghostly competitor had disappeared.',\n",
       " '“If I can but reach that bridge,” thought Ichabod, “I am safe.”',\n",
       " 'Just then he heard the black steed panting and blowing close behind him; he even fancied that he felt his hot breath.',\n",
       " 'Another convulsive kick in the ribs, and old Gunpowder sprang upon the bridge; he thundered over the resounding planks; he gained the opposite side; and now Ichabod cast a look behind to see if his pursuer should vanish, according to rule, in a flash of fire and brimstone.',\n",
       " 'Just then he saw the goblin rising in his stirrups, and in the very act of hurling his head at him.',\n",
       " 'Ichabod endeavored to dodge the horrible missile, but too late.',\n",
       " 'It encountered his cranium with a tremendous crash,--he was tumbled headlong into the dust, and Gunpowder, the black steed, and the goblin rider, passed by like a whirlwind.',\n",
       " 'The next morning the old horse was found without his saddle, and with the bridle under his feet, soberly cropping the grass at his master’s gate.',\n",
       " 'Ichabod did not make his appearance at breakfast; dinner-hour came, but no Ichabod.',\n",
       " 'The boys assembled at the schoolhouse, and strolled idly about the banks of the brook; but no schoolmaster.',\n",
       " 'Hans Van Ripper now began to feel some uneasiness about the fate of poor Ichabod, and his saddle.',\n",
       " 'An inquiry was set on foot, and after diligent investigation they came upon his traces.',\n",
       " 'In one part of the road leading to the church was found the saddle trampled in the dirt; the tracks of horses’ hoofs deeply dented in the road, and evidently at furious speed, were traced to the bridge, beyond which, on the bank of a broad part of the brook, where the water ran deep and black, was found the hat of the unfortunate Ichabod, and close beside it a shattered pumpkin.',\n",
       " 'The brook was searched, but the body of the schoolmaster was not to be discovered.',\n",
       " 'Hans Van Ripper as executor of his estate, examined the bundle which contained all his worldly effects.',\n",
       " 'They consisted of two shirts and a half; two stocks for the neck; a pair or two of worsted stockings; an old pair of corduroy small-clothes; a rusty razor; a book of psalm tunes full of dog’s-ears; and a broken pitch-pipe.',\n",
       " 'As to the books and furniture of the schoolhouse, they belonged to the community, excepting Cotton Mather’s “History of Witchcraft,” a “New England Almanac,” and a book of dreams and fortune-telling; in which last was a sheet of foolscap much scribbled and blotted in several fruitless attempts to make a copy of verses in honor of the heiress of Van Tassel.',\n",
       " 'These magic books and the poetic scrawl were forthwith consigned to the flames by Hans Van Ripper; who, from that time forward, determined to send his children no more to school, observing that he never knew any good come of this same reading and writing.',\n",
       " 'Whatever money the schoolmaster possessed, and he had received his quarter’s pay but a day or two before, he must have had about his person at the time of his disappearance.',\n",
       " 'The mysterious event caused much speculation at the church on the following Sunday.',\n",
       " 'Knots of gazers and gossips were collected in the churchyard, at the bridge, and at the spot where the hat and pumpkin had been found.',\n",
       " 'The stories of Brouwer, of Bones, and a whole budget of others were called to mind; and when they had diligently considered them all, and compared them with the symptoms of the present case, they shook their heads, and came to the conclusion that Ichabod had been carried off by the Galloping Hessian.',\n",
       " 'As he was a bachelor, and in nobody’s debt, nobody troubled his head any more about him; the school was removed to a different quarter of the hollow, and another pedagogue reigned in his stead.',\n",
       " 'It is true, an old farmer, who had been down to New York on a visit several years after, and from whom this account of the ghostly adventure was received, brought home the intelligence that Ichabod Crane was still alive; that he had left the neighborhood partly through fear of the goblin and Hans Van Ripper, and partly in mortification at having been suddenly dismissed by the heiress; that he had changed his quarters to a distant part of the country; had kept school and studied law at the same time; had been admitted to the bar; turned politician; electioneered; written for the newspapers; and finally had been made a justice of the Ten Pound Court.',\n",
       " 'Brom Bones, too, who, shortly after his rival’s disappearance conducted the blooming Katrina in triumph to the altar, was observed to look exceedingly knowing whenever the story of Ichabod was related, and always burst into a hearty laugh at the mention of the pumpkin; which led some to suspect that he knew more about the matter than he chose to tell.',\n",
       " 'The old country wives, however, who are the best judges of these matters, maintain to this day that Ichabod was spirited away by supernatural means; and it is a favorite story often told about the neighborhood round the winter evening fire.',\n",
       " 'The bridge became more than ever an object of superstitious awe; and that may be the reason why the road has been altered of late years, so as to approach the church by the border of the millpond.',\n",
       " 'The schoolhouse being deserted soon fell to decay, and was reported to be haunted by the ghost of the unfortunate pedagogue and the plowboy, loitering homeward of a still summer evening, has often fancied his voice at a distance, chanting a melancholy psalm tune among the tranquil solitudes of Sleepy Hollow.']"
      ]
     },
     "execution_count": 52,
     "metadata": {},
     "output_type": "execute_result"
    }
   ],
   "source": [
    "sentences = [i.strip() for i in open('data/unseen.txt').readlines()]\n",
    "sentences"
   ]
  },
  {
   "cell_type": "code",
   "execution_count": 39,
   "metadata": {},
   "outputs": [
    {
     "name": "stdout",
     "output_type": "stream",
     "text": [
      "{'furniture': 0.12022529596456778, 'kitchen': 0.8797747040354322}\n"
     ]
    }
   ],
   "source": [
    "# run classification\n",
    "print(nlp(\"I am looking for kitchen appliances.\")._.cats)"
   ]
  },
  {
   "cell_type": "code",
   "execution_count": 26,
   "metadata": {},
   "outputs": [],
   "source": [
    "import spacy\n",
    "nlp = spacy.load('en_core_web_sm')\n",
    "\n",
    "text = 'My first birthday was great. My 2. was even better.'\n",
    "sentences = [i for i in nlp(text).sents]\n"
   ]
  },
  {
   "cell_type": "code",
   "execution_count": 27,
   "metadata": {},
   "outputs": [
    {
     "data": {
      "text/plain": [
       "[My first birthday was great., My 2. was even better.]"
      ]
     },
     "execution_count": 27,
     "metadata": {},
     "output_type": "execute_result"
    }
   ],
   "source": [
    "sentences"
   ]
  },
  {
   "cell_type": "code",
   "execution_count": 17,
   "metadata": {},
   "outputs": [],
   "source": [
    "sentence_model = spacy.blank(\"en\")\n",
    "\n",
    "sentence_model.add_pipe(\"sentencizer\")\n",
    "\n",
    "with open (\"harry_potter_cleaned.txt\", \"r\") as f:\n",
    "    text = f.read()\n",
    "\n",
    "\n",
    "sentences = sentence_model(text)"
   ]
  },
  {
   "cell_type": "code",
   "execution_count": 20,
   "metadata": {},
   "outputs": [
    {
     "data": {
      "text/plain": [
       ","
      ]
     },
     "execution_count": 20,
     "metadata": {},
     "output_type": "execute_result"
    }
   ],
   "source": [
    "sentences[4]"
   ]
  },
  {
   "cell_type": "code",
   "execution_count": 29,
   "metadata": {},
   "outputs": [],
   "source": [
    "final_data = []\n",
    "for sentence in sentences.sents:\n",
    "    doc = nlp(sentence.text) #< -- perform the categorizer at the sentence level\n",
    "    final_data.append({\"sentence\": doc.text, \"cats\": doc._.cats})"
   ]
  },
  {
   "cell_type": "code",
   "execution_count": 30,
   "metadata": {},
   "outputs": [
    {
     "data": {
      "text/plain": [
       "{'sentence': 'Mr. and Mrs. Dursley, of number four, Privet Drive, were proud to say that they were perfectly normal, thank you very much.',\n",
       " 'cats': {'furniture': 0.588502517277626, 'kitchen': 0.4114974827223741}}"
      ]
     },
     "execution_count": 30,
     "metadata": {},
     "output_type": "execute_result"
    }
   ],
   "source": [
    "final_data[0]"
   ]
  },
  {
   "cell_type": "code",
   "execution_count": 31,
   "metadata": {},
   "outputs": [
    {
     "ename": "KeyError",
     "evalue": "'fear'",
     "output_type": "error",
     "traceback": [
      "\u001b[0;31m---------------------------------------------------------------------------\u001b[0m",
      "\u001b[0;31mKeyError\u001b[0m                                  Traceback (most recent call last)",
      "\u001b[1;32m/Users/simon/Dropbox/code/science2/few_shot.ipynb Cell 13\u001b[0m in \u001b[0;36m<cell line: 1>\u001b[0;34m()\u001b[0m\n\u001b[1;32m      <a href='vscode-notebook-cell:/Users/simon/Dropbox/code/science2/few_shot.ipynb#X24sZmlsZQ%3D%3D?line=0'>1</a>\u001b[0m \u001b[39mfor\u001b[39;00m item \u001b[39min\u001b[39;00m final_data:\n\u001b[0;32m----> <a href='vscode-notebook-cell:/Users/simon/Dropbox/code/science2/few_shot.ipynb#X24sZmlsZQ%3D%3D?line=1'>2</a>\u001b[0m     \u001b[39mif\u001b[39;00m item[\u001b[39m\"\u001b[39;49m\u001b[39mcats\u001b[39;49m\u001b[39m\"\u001b[39;49m][\u001b[39m\"\u001b[39;49m\u001b[39mfear\u001b[39;49m\u001b[39m\"\u001b[39;49m] \u001b[39m>\u001b[39m \u001b[39m.8\u001b[39m:\n\u001b[1;32m      <a href='vscode-notebook-cell:/Users/simon/Dropbox/code/science2/few_shot.ipynb#X24sZmlsZQ%3D%3D?line=2'>3</a>\u001b[0m         \u001b[39mprint\u001b[39m (item[\u001b[39m\"\u001b[39m\u001b[39msentence\u001b[39m\u001b[39m\"\u001b[39m]\u001b[39m.\u001b[39mstrip())\n\u001b[1;32m      <a href='vscode-notebook-cell:/Users/simon/Dropbox/code/science2/few_shot.ipynb#X24sZmlsZQ%3D%3D?line=3'>4</a>\u001b[0m         \u001b[39mprint\u001b[39m (item[\u001b[39m\"\u001b[39m\u001b[39mcats\u001b[39m\u001b[39m\"\u001b[39m])\n",
      "\u001b[0;31mKeyError\u001b[0m: 'fear'"
     ]
    }
   ],
   "source": [
    "for item in final_data:\n",
    "    if item[\"cats\"][\"fear\"] > .8:\n",
    "        print (item[\"sentence\"].strip())\n",
    "        print (item[\"cats\"])\n",
    "        print ()"
   ]
  }
 ],
 "metadata": {
  "kernelspec": {
   "display_name": "base",
   "language": "python",
   "name": "python3"
  },
  "language_info": {
   "codemirror_mode": {
    "name": "ipython",
    "version": 3
   },
   "file_extension": ".py",
   "mimetype": "text/x-python",
   "name": "python",
   "nbconvert_exporter": "python",
   "pygments_lexer": "ipython3",
   "version": "3.9.12"
  },
  "orig_nbformat": 4,
  "vscode": {
   "interpreter": {
    "hash": "ebe3ce01678291323dcff905f7209dd16179ba179af5ccfbed7b023ef5b6c3ff"
   }
  }
 },
 "nbformat": 4,
 "nbformat_minor": 2
}
